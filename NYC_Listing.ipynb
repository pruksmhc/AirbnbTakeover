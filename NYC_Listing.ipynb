{
 "cells": [
  {
   "cell_type": "markdown",
   "metadata": {},
   "source": [
    "# The Takeover of Airbnb \n",
    "## By Yada Pruksachatkun and Andrea Jackson \n",
    "\n",
    "Airbnb, which according to their website is \"a peer-to-peer online marketplace and homestay network that enables people to list or rent short-term lodging in residential properties, with the cost of such accommodation set by the property owner,\" has taken the world by storm. From New York to Australia, it is now possible for backpackers and business people alike to stay in the hospitality of someone else's home. \n",
    "\n",
    "We decided to measure how much Airbnb will grow. \n",
    "\n",
    "### Framing it as a Bayesian Problem \n",
    "We decided to look at how long it would take for a home to get listed in Airbnb, given that another home in the same neighborhood was listed. We defined a neighborhood as an equally sized square blcok, and decided to focus on New York Airbnb listing data. We defined each neighborhood to be 1x1 mile. \n",
    "\n",
    "This can be solved using Survival Analysis (Index 1). Survival Analysis is a family of mathematical methods to predict the time until the occurence of an event. \n",
    "\n",
    "We decided to use the Weibull distribution. The Probability Distribution Function, or PDF, equation of the weibull is as follows:\n",
    "\n",
    "![title](img/pdf.jpg )\n",
    "\n",
    "\n",
    "and the Cumulative Distribution Function (CDF) is as follows:\n",
    "\n",
    "![title](img/cdf.jpg)\n"
   ]
  },
  {
   "cell_type": "code",
   "execution_count": 54,
   "metadata": {
    "collapsed": false
   },
   "outputs": [],
   "source": [
    "from __future__ import print_function, division\n",
    "\n",
    "% matplotlib inline\n",
    "import warnings\n",
    "warnings.filterwarnings('ignore')\n",
    "\n",
    "import math\n",
    "import numpy as np\n",
    "\n",
    "from thinkbayes2 import Pmf, Cdf, Suite, Joint\n",
    "import thinkplot\n",
    "\n",
    "import pandas as pd\n",
    "import pickle\n",
    "\n",
    "from itertools import product"
   ]
  },
  {
   "cell_type": "markdown",
   "metadata": {},
   "source": [
    "### Data Source and Assumptions\n",
    "To calculate the number of homes at a given time t that will have been listed on Airbnb, we need data that contains the location of the home, the zipcode of the home and the date that the home was listed on Airbnb.\n",
    "\n",
    "The website [InsideAirbnb.com](http://insideairbnb.com/get-the-data.html) contains csv files of homes listed on Airbnb for cities in the United States. For our project, we decided to analyze the homes listed on Airbnb in New York City. We assume every listing in in the InsideAirbnb data is unique and represents a different home/apartment/sublet per listing.\n",
    "\n",
    "Also, the csv files contain many columns that were not relevant for our project, such as customer reviews and links to images of the home. To get only the data we needed, we created a Dataframe from the csv file, removed the extra columns and created a pickle or serialized the dataframe.\n",
    "\n",
    "For the total number of houses, we used data from the Internationnal Revenue Service (IRS)'s Tax Income SOI spreadsheet, using the number of head of household returns to estimate the number of houses per zipcode. "
   ]
  },
  {
   "cell_type": "markdown",
   "metadata": {},
   "source": [
    "### Extracting the data"
   ]
  },
  {
   "cell_type": "code",
   "execution_count": 55,
   "metadata": {
    "collapsed": false
   },
   "outputs": [],
   "source": [
    "df = pd.read_pickle(\"NYC_listing_pickle\")"
   ]
  },
  {
   "cell_type": "code",
   "execution_count": 56,
   "metadata": {
    "collapsed": false
   },
   "outputs": [
    {
     "data": {
      "text/html": [
       "<div>\n",
       "<table border=\"1\" class=\"dataframe\">\n",
       "  <thead>\n",
       "    <tr style=\"text-align: right;\">\n",
       "      <th></th>\n",
       "      <th>host_since</th>\n",
       "      <th>city</th>\n",
       "      <th>zipcode</th>\n",
       "      <th>latitude</th>\n",
       "      <th>longitude</th>\n",
       "    </tr>\n",
       "    <tr>\n",
       "      <th>id</th>\n",
       "      <th></th>\n",
       "      <th></th>\n",
       "      <th></th>\n",
       "      <th></th>\n",
       "      <th></th>\n",
       "    </tr>\n",
       "  </thead>\n",
       "  <tbody>\n",
       "    <tr>\n",
       "      <th>3943387</th>\n",
       "      <td>2014-08-23</td>\n",
       "      <td>Bronx</td>\n",
       "      <td>10464</td>\n",
       "      <td>40.839396</td>\n",
       "      <td>-73.781437</td>\n",
       "    </tr>\n",
       "    <tr>\n",
       "      <th>6627449</th>\n",
       "      <td>2014-04-04</td>\n",
       "      <td>City Island</td>\n",
       "      <td>10464</td>\n",
       "      <td>40.849775</td>\n",
       "      <td>-73.786609</td>\n",
       "    </tr>\n",
       "    <tr>\n",
       "      <th>11675715</th>\n",
       "      <td>2016-01-30</td>\n",
       "      <td>City Island</td>\n",
       "      <td>10464</td>\n",
       "      <td>40.850376</td>\n",
       "      <td>-73.784681</td>\n",
       "    </tr>\n",
       "    <tr>\n",
       "      <th>1886820</th>\n",
       "      <td>2013-11-04</td>\n",
       "      <td>Bronx</td>\n",
       "      <td>10464</td>\n",
       "      <td>40.841144</td>\n",
       "      <td>-73.783052</td>\n",
       "    </tr>\n",
       "    <tr>\n",
       "      <th>5557381</th>\n",
       "      <td>2015-03-05</td>\n",
       "      <td>Bronx</td>\n",
       "      <td>10464</td>\n",
       "      <td>40.850024</td>\n",
       "      <td>-73.789328</td>\n",
       "    </tr>\n",
       "    <tr>\n",
       "      <th>958444</th>\n",
       "      <td>2013-02-24</td>\n",
       "      <td>Bronx</td>\n",
       "      <td>10464</td>\n",
       "      <td>40.852350</td>\n",
       "      <td>-73.788728</td>\n",
       "    </tr>\n",
       "    <tr>\n",
       "      <th>8053533</th>\n",
       "      <td>2015-08-25</td>\n",
       "      <td>Bronx</td>\n",
       "      <td>10464</td>\n",
       "      <td>40.848202</td>\n",
       "      <td>-73.789293</td>\n",
       "    </tr>\n",
       "    <tr>\n",
       "      <th>9147025</th>\n",
       "      <td>2011-02-21</td>\n",
       "      <td>Bronx</td>\n",
       "      <td>10464</td>\n",
       "      <td>40.844870</td>\n",
       "      <td>-73.789541</td>\n",
       "    </tr>\n",
       "    <tr>\n",
       "      <th>7949480</th>\n",
       "      <td>2010-05-06</td>\n",
       "      <td>Bronx</td>\n",
       "      <td>10464</td>\n",
       "      <td>40.852054</td>\n",
       "      <td>-73.788680</td>\n",
       "    </tr>\n",
       "    <tr>\n",
       "      <th>755528</th>\n",
       "      <td>2012-09-26</td>\n",
       "      <td>Bronx</td>\n",
       "      <td>10467</td>\n",
       "      <td>40.858397</td>\n",
       "      <td>-73.869686</td>\n",
       "    </tr>\n",
       "    <tr>\n",
       "      <th>501568</th>\n",
       "      <td>2011-11-03</td>\n",
       "      <td>Bronx</td>\n",
       "      <td>10469</td>\n",
       "      <td>40.868983</td>\n",
       "      <td>-73.851274</td>\n",
       "    </tr>\n",
       "    <tr>\n",
       "      <th>4303051</th>\n",
       "      <td>2011-11-03</td>\n",
       "      <td>Bronx</td>\n",
       "      <td>10469</td>\n",
       "      <td>40.868076</td>\n",
       "      <td>-73.848490</td>\n",
       "    </tr>\n",
       "    <tr>\n",
       "      <th>12496118</th>\n",
       "      <td>2014-01-14</td>\n",
       "      <td>Bronx</td>\n",
       "      <td>10469</td>\n",
       "      <td>40.869469</td>\n",
       "      <td>-73.859935</td>\n",
       "    </tr>\n",
       "    <tr>\n",
       "      <th>759901</th>\n",
       "      <td>2011-07-26</td>\n",
       "      <td>Bronx</td>\n",
       "      <td>10469</td>\n",
       "      <td>40.866331</td>\n",
       "      <td>-73.856428</td>\n",
       "    </tr>\n",
       "    <tr>\n",
       "      <th>3429765</th>\n",
       "      <td>2014-06-02</td>\n",
       "      <td>Bronx</td>\n",
       "      <td>10469</td>\n",
       "      <td>40.866889</td>\n",
       "      <td>-73.857756</td>\n",
       "    </tr>\n",
       "  </tbody>\n",
       "</table>\n",
       "</div>"
      ],
      "text/plain": [
       "          host_since         city zipcode   latitude  longitude\n",
       "id                                                             \n",
       "3943387   2014-08-23        Bronx   10464  40.839396 -73.781437\n",
       "6627449   2014-04-04  City Island   10464  40.849775 -73.786609\n",
       "11675715  2016-01-30  City Island   10464  40.850376 -73.784681\n",
       "1886820   2013-11-04        Bronx   10464  40.841144 -73.783052\n",
       "5557381   2015-03-05        Bronx   10464  40.850024 -73.789328\n",
       "958444    2013-02-24        Bronx   10464  40.852350 -73.788728\n",
       "8053533   2015-08-25        Bronx   10464  40.848202 -73.789293\n",
       "9147025   2011-02-21        Bronx   10464  40.844870 -73.789541\n",
       "7949480   2010-05-06        Bronx   10464  40.852054 -73.788680\n",
       "755528    2012-09-26        Bronx   10467  40.858397 -73.869686\n",
       "501568    2011-11-03        Bronx   10469  40.868983 -73.851274\n",
       "4303051   2011-11-03        Bronx   10469  40.868076 -73.848490\n",
       "12496118  2014-01-14        Bronx   10469  40.869469 -73.859935\n",
       "759901    2011-07-26        Bronx   10469  40.866331 -73.856428\n",
       "3429765   2014-06-02        Bronx   10469  40.866889 -73.857756"
      ]
     },
     "execution_count": 56,
     "metadata": {},
     "output_type": "execute_result"
    }
   ],
   "source": [
    "df.head(15)"
   ]
  },
  {
   "cell_type": "markdown",
   "metadata": {},
   "source": [
    "Some of the data was formatted incorrectly or were in the zip+4 format, such as 11426-1175. Thus, we replaced those zipcodes with the corresponding zipcode using the function below. "
   ]
  },
  {
   "cell_type": "code",
   "execution_count": 57,
   "metadata": {
    "collapsed": true
   },
   "outputs": [],
   "source": [
    "def replaceZipcodes(zipcodes,newZipcodes):\n",
    "    '''Replaces the zipcode in the dataframe with \n",
    "    a new zipcode'''\n",
    "    for i,z in zip(zipcodes,newZipcodes):\n",
    "        index = df[df['zipcode'] == i].index.tolist()\n",
    "        df.set_value(index,'zipcode',z).head(5)"
   ]
  },
  {
   "cell_type": "code",
   "execution_count": 58,
   "metadata": {
    "collapsed": false
   },
   "outputs": [],
   "source": [
    "zipcodes = ['11426-1175','10002-2289','10003\\n10003','10003-8623','11205-4471',\n",
    "            '8456422473 call for more details','11103-3233']\n",
    "newZipcodes = ['11426','10002','10003','10003','11205','10021','11103']\n",
    "replaceZipcodes(zipcodes,newZipcodes)"
   ]
  },
  {
   "cell_type": "markdown",
   "metadata": {},
   "source": [
    "#### We defined each neighborhood to be 1x1 mile. Using a calculator (see index below), we found the distance of the longitude to be 32.64 miles (52.53 km) by longitude and 33.64 miles (54.13 km) by latitude. "
   ]
  },
  {
   "cell_type": "code",
   "execution_count": 59,
   "metadata": {
    "collapsed": true
   },
   "outputs": [],
   "source": [
    "import geopy"
   ]
  },
  {
   "cell_type": "code",
   "execution_count": 60,
   "metadata": {
    "collapsed": false
   },
   "outputs": [
    {
     "data": {
      "text/plain": [
       "id\n",
       "3943387     10464\n",
       "6627449     10464\n",
       "11675715    10464\n",
       "1886820     10464\n",
       "5557381     10464\n",
       "958444      10464\n",
       "8053533     10464\n",
       "9147025     10464\n",
       "7949480     10464\n",
       "755528      10467\n",
       "Name: zipcode, dtype: object"
      ]
     },
     "execution_count": 60,
     "metadata": {},
     "output_type": "execute_result"
    }
   ],
   "source": [
    "df.zipcode.head(10) # need to count how many zipcodes are NaN"
   ]
  },
  {
   "cell_type": "code",
   "execution_count": 61,
   "metadata": {
    "collapsed": false
   },
   "outputs": [],
   "source": [
    "coordinateList = zip(df.latitude, df.longitude, df.zipcode)"
   ]
  },
  {
   "cell_type": "markdown",
   "metadata": {},
   "source": [
    "Because we were dividing the neighborhoods into grids, we had to measure the number of miles there were per change in coordinate system. Using a calculator (see index below), we found the distance to be 32.64 miles (52.53 km) by longitude and 33.64 miles (54.13 km) by latitude. \n",
    "We decided to divide our grid up from (0,0) to (32, 33), where each square will be a neighborhood. To map the listed Airbnb listings per square, we created the find_distance function to find the distance of a house from the minimum longitude and latitude. Thus, we used the below formula to calculate which neighborhood a listing should be in, such that i and j are the corresponding indices in the n_grid hashmap. "
   ]
  },
  {
   "cell_type": "markdown",
   "metadata": {},
   "source": [
    "$ i =  x_{lat} - min_{lat} $"
   ]
  },
  {
   "cell_type": "markdown",
   "metadata": {},
   "source": [
    "$ j =  x_{long} - min_{long}$"
   ]
  },
  {
   "cell_type": "code",
   "execution_count": 62,
   "metadata": {
    "collapsed": false
   },
   "outputs": [],
   "source": [
    "max_lat = df.max(axis=0)['latitude']\n",
    "max_long =  df.max(axis=0)['longitude']\n",
    "min_lat = df.min(axis=0)['latitude']\n",
    "min_long = df.min(axis=0)['longitude']\n",
    "max_long_row = df.loc[df['longitude']== max_long]\n",
    "min_long_row = df.loc[df['longitude']== min_long]\n",
    "max_lat_row = df.loc[df['latitude']== max_lat]\n",
    "min_lat_row = df.loc[df['latitude']== min_lat]\n",
    "corresponding_long_of_min_lat = -74.240843\n",
    "corresponding_lat_of_min_long = 40.499794"
   ]
  },
  {
   "cell_type": "markdown",
   "metadata": {},
   "source": [
    "We used geopy to calculate the distance betwaeen two coordinates. "
   ]
  },
  {
   "cell_type": "code",
   "execution_count": 63,
   "metadata": {
    "collapsed": false
   },
   "outputs": [],
   "source": [
    "from geopy import distance\n",
    "\n",
    "def find_distance(in_lat, in_long):\n",
    "    '''Paramters: Lat and long of house listing.\n",
    "       Output: 0 < lat < 33.64 and 0 < long < 32.64\n",
    "       We calculate the long difference and lat difference by isolating \n",
    "       the variables and fixing the other to be the corresponding fixed \n",
    "       varaible of the minimum free variable. \n",
    "    '''\n",
    "    diff_long = distance.vincenty((corresponding_lat_of_min_long, in_long), (corresponding_lat_of_min_long, min_long)).miles\n",
    "    diff_lat = distance.vincenty((in_lat,  corresponding_long_of_min_lat), (min_lat, corresponding_long_of_min_lat)).miles\n",
    "    return (diff_lat, diff_long)"
   ]
  },
  {
   "cell_type": "code",
   "execution_count": 64,
   "metadata": {
    "collapsed": false
   },
   "outputs": [
    {
     "data": {
      "text/plain": [
       "(19.58333832402766, 14.396840047098028)"
      ]
     },
     "execution_count": 64,
     "metadata": {},
     "output_type": "execute_result"
    }
   ],
   "source": [
    "find_distance(40.783605,-73.967515)"
   ]
  },
  {
   "cell_type": "code",
   "execution_count": 65,
   "metadata": {
    "collapsed": false
   },
   "outputs": [],
   "source": [
    "import math\n",
    "n_grid = {}\n",
    "n_grid_zipcodes = {}\n",
    "\n",
    "def is_nan(num):\n",
    "    return num != num\n",
    "\n",
    "from decimal import *\n",
    "getcontext().prec = 2\n",
    "\n",
    "def round_num(x):\n",
    "    return int(x)\n",
    "   # return float(\"{0:.2f}\".format(x))\n",
    "index = 0\n",
    "for coor in coordinateList:\n",
    "    latitude,longitude, zipcode = coor\n",
    "    res_distance = find_distance(latitude,longitude)\n",
    "    out_distance = (round_num(res_distance[0]), round_num(res_distance[1]))\n",
    "    # places lat,long values in zipcode grid\n",
    "    if is_nan(zipcode) is False:\n",
    "        if type(zipcode) is float:\n",
    "            zipcode = int(zipcode) \n",
    "        zipcode = str(zipcode)\n",
    "        if n_grid_zipcodes.get(zipcode) is None:\n",
    "            n_grid_zipcodes[zipcode] = set() \n",
    "        n_grid_zipcodes[zipcode].add(out_distance)\n",
    "        \n",
    "    # counts the number of neighborhoods per zipcode\n",
    "    if  n_grid.get(out_distance) is None:\n",
    "        n_grid[out_distance] = []\n",
    "    else:\n",
    "        n_grid[out_distance].append(index)\n",
    "    index = index + 1"
   ]
  },
  {
   "cell_type": "markdown",
   "metadata": {
    "collapsed": false
   },
   "source": [
    "Below, we load the data from the CSV file containing the zipcode to the number of houses in the zipcode."
   ]
  },
  {
   "cell_type": "code",
   "execution_count": 66,
   "metadata": {
    "collapsed": true
   },
   "outputs": [],
   "source": [
    "import csv\n",
    "zipcodes_to_num_houses = {}\n",
    "def represents_int(s):\n",
    "    try: \n",
    "        int(s)\n",
    "        return True\n",
    "    except ValueError:\n",
    "        return False\n",
    "    \n",
    "with open('households.csv', 'rb') as csvfile:\n",
    "    rows = csv.reader(csvfile)\n",
    "    for row in rows:\n",
    "        if represents_int(row[1]):  \n",
    "            zipcodes_to_num_houses[row[0]] = int(row[1])"
   ]
  },
  {
   "cell_type": "code",
   "execution_count": 67,
   "metadata": {
    "collapsed": true
   },
   "outputs": [],
   "source": [
    "from itertools import islice\n",
    "def take(n,iterable):\n",
    "    ''''Return first n iterms of the iterable as a list'''\n",
    "    return list(islice(iterable,n))"
   ]
  },
  {
   "cell_type": "code",
   "execution_count": 68,
   "metadata": {
    "collapsed": true
   },
   "outputs": [],
   "source": [
    "firstHalfOrig = [10270,10279,10280,10281,10282,12337,10301,10303,10304,10305,10308,10312,10314,11354,11355,11356,11357,\n",
    "11358,11360,11361,11362,11364,11365,11366,11367,11368,11369,11370,11372,11373,11374,11375,11377,11379,11385,10080,7305,\n",
    "11411,11412,11413,11415,11416,11417,11418,11419,11421,11423,11426,11427,11432,11434,11435,10451,10452,10453,10454,\n",
    "10455,10456,10457,10458,10459,10460,10462,10463,10464,10465,10466,10467,10468,10469,10471,10472,10473,10475,11001,\n",
    "11004,10001,10002,10003,10004,10005,10006]"
   ]
  },
  {
   "cell_type": "code",
   "execution_count": 69,
   "metadata": {
    "collapsed": true
   },
   "outputs": [],
   "source": [
    "firstHalfOrigString = [str(i) for i in firstHalfOrig]\n",
    "b = set(firstHalfOrigString)"
   ]
  },
  {
   "cell_type": "code",
   "execution_count": 70,
   "metadata": {
    "collapsed": true
   },
   "outputs": [],
   "source": [
    "n = len(n_grid_zipcodes)"
   ]
  },
  {
   "cell_type": "code",
   "execution_count": 71,
   "metadata": {
    "collapsed": false
   },
   "outputs": [],
   "source": [
    "allZipcodes = take((n),n_grid_zipcodes)\n",
    "c = set(allZipcodes)"
   ]
  },
  {
   "cell_type": "code",
   "execution_count": 72,
   "metadata": {
    "collapsed": true
   },
   "outputs": [],
   "source": [
    "secondHalfOrig = c-b"
   ]
  },
  {
   "cell_type": "markdown",
   "metadata": {},
   "source": [
    "We then calculated the birth date of each neighborhood, which is based on the event of the first listing from each neighborhood. The function below finds the date of the firs tlisting for each neighborhood in n_grid. Based on the birth date of the neighborhood, we calculated the age of death for the remaining listings in the neighborhood, storing that data into a hashmap called neighborhood_data. From herein, age will refer to the number of days passed since the date of listing of the first house. "
   ]
  },
  {
   "cell_type": "code",
   "execution_count": 73,
   "metadata": {
    "collapsed": false,
    "scrolled": false
   },
   "outputs": [],
   "source": [
    "relative_times = {}\n",
    "import time\n",
    "from datetime import datetime\n",
    "        \n",
    "def findMin():\n",
    "    '''find the pioneer - the first home in a\n",
    "    neighborhood to be listed on Airbnb'''\n",
    "    min_hashmap = {}\n",
    "    for key, value in n_grid.iteritems():\n",
    "        if len(value) > 0:\n",
    "            min_value = time.strftime(\"%Y-%m-%d\")\n",
    "            for i in range(len(value)):\n",
    "                host_since = df.iloc[i].host_since\n",
    "                host_datetime = time.strptime(host_since, \"%Y-%m-%d\")\n",
    "                if min_value < host_datetime:\n",
    "                    min_value = host_since\n",
    "            min_hashmap[key] = [min_value]\n",
    "    return min_hashmap\n",
    "\n",
    "min_hashmap = findMin()    "
   ]
  },
  {
   "cell_type": "code",
   "execution_count": 74,
   "metadata": {
    "collapsed": false
   },
   "outputs": [],
   "source": [
    "def get_relative_times():\n",
    "    '''Calculate the age of house listings in neighborhood based on\n",
    "    pioneer'''\n",
    "    relative_times = {}\n",
    "    for key, value in n_grid.iteritems():\n",
    "        if len(value) > 0:\n",
    "            min_time = min_hashmap[key]\n",
    "            min_time_l = datetime.strptime(min_time[0],\"%Y-%m-%d\")\n",
    "            for i in range(len(value)):\n",
    "                index = value[i]\n",
    "                curr_since = df.iloc[index].host_since\n",
    "                if type(curr_since) is not float:\n",
    "                    curr_datetime = datetime.strptime(str(curr_since),\"%Y-%m-%d\")\n",
    "                    diff = abs((curr_datetime - min_time_l).days) \n",
    "                    #diff_months = math.floor(diff/30)\n",
    "                    if relative_times.get(key) is None:\n",
    "                        relative_times[key] = [str(diff)]\n",
    "                    else:\n",
    "                        relative_times[key].append(str(diff))\n",
    "    return relative_times\n",
    "\n",
    "relative_times = get_relative_times()"
   ]
  },
  {
   "cell_type": "code",
   "execution_count": 75,
   "metadata": {
    "collapsed": false
   },
   "outputs": [],
   "source": [
    "def prepareData(grid,rel_hash):\n",
    "    '''iterate through each neighborhood in grid and format \n",
    "    each listing as (isListed,age).\n",
    "    isListed: a boolean value\n",
    "    age: number of days that have passed since pioneer was listed on Airbnb\n",
    "    \n",
    "    Return a dictionary where the key is the neighborhood coordinates\n",
    "    and the value is a list of tuples. Each tuple represents a home in that neighborhood'''\n",
    "    n_dict = {}\n",
    "    for key, val in grid.iteritems():\n",
    "        homes = []\n",
    "        if len(val) > 0:\n",
    "#             print (key)\n",
    "#             print (val)\n",
    "            listedHomes = rel_hash[key]\n",
    "            for age in listedHomes:\n",
    "                f_age = float(age)\n",
    "                homes.append((True,int(f_age)))\n",
    "            n_dict[key] = homes\n",
    "        else:\n",
    "            pass\n",
    "    return n_dict\n",
    "        "
   ]
  },
  {
   "cell_type": "code",
   "execution_count": 76,
   "metadata": {
    "collapsed": false
   },
   "outputs": [],
   "source": [
    "neighborhoodData = prepareData(n_grid,relative_times)"
   ]
  },
  {
   "cell_type": "code",
   "execution_count": 77,
   "metadata": {
    "collapsed": true
   },
   "outputs": [],
   "source": [
    "# The following Weibull functions were written by Professor Allen Downey, Olin College of Engineering \n",
    "def EvalWeibullPdf(x, lam, k):\n",
    "    \"\"\"Computes the Weibull PDF.\n",
    "\n",
    "    x: value\n",
    "    lam: parameter lambda in events per unit time\n",
    "    k: parameter\n",
    "\n",
    "    returns: float probability density\n",
    "    \"\"\"\n",
    "    arg = (x / lam)\n",
    "    return k / lam * arg**(k-1) * np.exp(-arg**k)\n",
    "\n",
    "def EvalWeibullCdf(x, lam, k):\n",
    "    \"\"\"Evaluates CDF of the Weibull distribution.\"\"\"\n",
    "    arg = (x / lam)\n",
    "    return 1 - np.exp(-arg**k)\n",
    "\n",
    "def MakeWeibullPmf(lam, k, high, n=200):\n",
    "    \"\"\"Makes a PMF discrete approx to a Weibull distribution.\n",
    "\n",
    "    lam: parameter lambda in events per unit time\n",
    "    k: parameter\n",
    "    high: upper bound\n",
    "    n: number of values in the Pmf\n",
    "\n",
    "    returns: normalized Pmf\n",
    "    \"\"\"\n",
    "    xs = np.linspace(0, high, n)\n",
    "    ps = EvalWeibullPdf(xs, lam, k)\n",
    "    return Pmf(dict(zip(xs, ps)))"
   ]
  },
  {
   "cell_type": "code",
   "execution_count": 78,
   "metadata": {
    "collapsed": false
   },
   "outputs": [],
   "source": [
    "class Airbnb(Suite, Joint):\n",
    "    \n",
    "    def Likelihood(self, data, hypo):\n",
    "        lam,k = hypo\n",
    "        \n",
    "        if lam == 0:\n",
    "            return 0\n",
    "        \n",
    "        isListed,age = data\n",
    "        \n",
    "        if isListed == True:\n",
    "            like = EvalWeibullPdf(age, lam, k)\n",
    "            \n",
    "        elif isListed == False:\n",
    "            like = 1 - EvalWeibullCdf(age, lam, k)\n",
    "            \n",
    "        else:\n",
    "            raise ValueError('Invalid data')\n",
    "            \n",
    "        return like"
   ]
  },
  {
   "cell_type": "code",
   "execution_count": 79,
   "metadata": {
    "collapsed": false
   },
   "outputs": [],
   "source": [
    "# our estimates of k and lambda\n",
    "lams = np.linspace(0, 5, 101)\n",
    "ks = np.linspace(0, 5, 101)\n",
    "\n",
    "def findNeighborhoodPmfs(neighborhood_data):\n",
    "    '''for each neighborhood coordinate in neighborhood data\n",
    "    the function will find the pmf for each neighborhood.\n",
    "    fcn returns a dictionary where the key is the neighborhood coordinate\n",
    "    and value is the pmf'''\n",
    "    pmf_dict = {}\n",
    "    \n",
    "    for n_coord,ages in neighborhood_data.iteritems():  \n",
    "#         print (str(n_coord))\n",
    "        suite = Airbnb(product(lams,ks))\n",
    "        data = neighborhood_data[n_coord]\n",
    "\n",
    "        try:\n",
    "            suite.UpdateSet(data)\n",
    "            pmf_dict[n_coord] = (suite)\n",
    "        \n",
    "        #if total probability is zero\n",
    "        except ValueError: \n",
    "            pmf_dict[n_coord] = (None)\n",
    "\n",
    "    return pmf_dict"
   ]
  },
  {
   "cell_type": "code",
   "execution_count": 80,
   "metadata": {
    "collapsed": true
   },
   "outputs": [],
   "source": [
    "def MakeWeibullCdf(lam, k, high, n=200):\n",
    "    \"\"\"Makes a Cdf approx to a Weibull distribution.\n",
    "    \"\"\"\n",
    "    xs = np.linspace(0, high, n)\n",
    "    ps = EvalWeibullCdf(xs, lam, k)\n",
    "    return Cdf(dict(zip(xs, ps)))"
   ]
  },
  {
   "cell_type": "code",
   "execution_count": 81,
   "metadata": {
    "collapsed": false
   },
   "outputs": [],
   "source": [
    "neighborhoodPMF = findNeighborhoodPmfs(neighborhoodData)"
   ]
  },
  {
   "cell_type": "code",
   "execution_count": 104,
   "metadata": {
    "collapsed": true
   },
   "outputs": [],
   "source": [
    "import json\n",
    "with open('neighborhoodPMF.txt', 'w') as outfile:\n",
    "    json.dump(str(neighborhoodPMF), outfile)"
   ]
  },
  {
   "cell_type": "code",
   "execution_count": 82,
   "metadata": {
    "collapsed": false
   },
   "outputs": [],
   "source": [
    "# Find the neighborhoods whose total probability was 0 \n",
    "# and who were assigned None in findNeighborhoodsPmfs\n",
    "noneList = []\n",
    "for coord,pmf in neighborhoodPMF.iteritems():\n",
    "    suite = neighborhoodPMF[coord]\n",
    "    if suite is None:\n",
    "        noneList.append(coord)      "
   ]
  },
  {
   "cell_type": "markdown",
   "metadata": {},
   "source": [
    "The number of neighborhoods in our coordinate system whose calculated total probability was 0."
   ]
  },
  {
   "cell_type": "code",
   "execution_count": 83,
   "metadata": {
    "collapsed": false
   },
   "outputs": [
    {
     "data": {
      "text/plain": [
       "55"
      ]
     },
     "execution_count": 83,
     "metadata": {},
     "output_type": "execute_result"
    }
   ],
   "source": [
    "len(noneList)"
   ]
  },
  {
   "cell_type": "markdown",
   "metadata": {},
   "source": [
    "The total number of neighborhoods in our coordinate system."
   ]
  },
  {
   "cell_type": "code",
   "execution_count": 84,
   "metadata": {
    "collapsed": false
   },
   "outputs": [
    {
     "data": {
      "text/plain": [
       "289"
      ]
     },
     "execution_count": 84,
     "metadata": {},
     "output_type": "execute_result"
    }
   ],
   "source": [
    "len(n_grid)"
   ]
  },
  {
   "cell_type": "code",
   "execution_count": 85,
   "metadata": {
    "collapsed": false
   },
   "outputs": [],
   "source": [
    "def findValidNeighborhoods(d,noneList):\n",
    "    '''returns a new dictionary of valid neighborhood coordinates\n",
    "    as the keys and pmfs as the values'''\n",
    "    newDict = {}\n",
    "    for coords, pmf in d.iteritems():\n",
    "        if coords not in noneList:\n",
    "            newDict[coords] = pmf\n",
    "    return newDict"
   ]
  },
  {
   "cell_type": "code",
   "execution_count": 86,
   "metadata": {
    "collapsed": false
   },
   "outputs": [],
   "source": [
    "validNeigh = findValidNeighborhoods(neighborhoodPMF,noneList)"
   ]
  },
  {
   "cell_type": "code",
   "execution_count": 87,
   "metadata": {
    "collapsed": true
   },
   "outputs": [],
   "source": [
    "coordinates = validNeigh.keys()\n",
    "coordinate_df = pd.DataFrame({'coordinates': coordinates})"
   ]
  },
  {
   "cell_type": "code",
   "execution_count": 105,
   "metadata": {
    "collapsed": false
   },
   "outputs": [
    {
     "data": {
      "text/html": [
       "<div>\n",
       "<table border=\"1\" class=\"dataframe\">\n",
       "  <thead>\n",
       "    <tr style=\"text-align: right;\">\n",
       "      <th></th>\n",
       "      <th>coordinates</th>\n",
       "    </tr>\n",
       "  </thead>\n",
       "  <tbody>\n",
       "    <tr>\n",
       "      <th>0</th>\n",
       "      <td>(15, 27)</td>\n",
       "    </tr>\n",
       "    <tr>\n",
       "      <th>1</th>\n",
       "      <td>(6, 9)</td>\n",
       "    </tr>\n",
       "    <tr>\n",
       "      <th>2</th>\n",
       "      <td>(10, 17)</td>\n",
       "    </tr>\n",
       "    <tr>\n",
       "      <th>3</th>\n",
       "      <td>(24, 17)</td>\n",
       "    </tr>\n",
       "    <tr>\n",
       "      <th>4</th>\n",
       "      <td>(17, 20)</td>\n",
       "    </tr>\n",
       "    <tr>\n",
       "      <th>5</th>\n",
       "      <td>(7, 25)</td>\n",
       "    </tr>\n",
       "    <tr>\n",
       "      <th>6</th>\n",
       "      <td>(22, 19)</td>\n",
       "    </tr>\n",
       "    <tr>\n",
       "      <th>7</th>\n",
       "      <td>(15, 23)</td>\n",
       "    </tr>\n",
       "    <tr>\n",
       "      <th>8</th>\n",
       "      <td>(27, 17)</td>\n",
       "    </tr>\n",
       "    <tr>\n",
       "      <th>9</th>\n",
       "      <td>(18, 19)</td>\n",
       "    </tr>\n",
       "    <tr>\n",
       "      <th>10</th>\n",
       "      <td>(17, 25)</td>\n",
       "    </tr>\n",
       "    <tr>\n",
       "      <th>11</th>\n",
       "      <td>(8, 5)</td>\n",
       "    </tr>\n",
       "    <tr>\n",
       "      <th>12</th>\n",
       "      <td>(10, 8)</td>\n",
       "    </tr>\n",
       "    <tr>\n",
       "      <th>13</th>\n",
       "      <td>(6, 7)</td>\n",
       "    </tr>\n",
       "    <tr>\n",
       "      <th>14</th>\n",
       "      <td>(10, 7)</td>\n",
       "    </tr>\n",
       "    <tr>\n",
       "      <th>15</th>\n",
       "      <td>(14, 18)</td>\n",
       "    </tr>\n",
       "    <tr>\n",
       "      <th>16</th>\n",
       "      <td>(11, 12)</td>\n",
       "    </tr>\n",
       "    <tr>\n",
       "      <th>17</th>\n",
       "      <td>(11, 22)</td>\n",
       "    </tr>\n",
       "    <tr>\n",
       "      <th>18</th>\n",
       "      <td>(10, 18)</td>\n",
       "    </tr>\n",
       "    <tr>\n",
       "      <th>19</th>\n",
       "      <td>(15, 11)</td>\n",
       "    </tr>\n",
       "  </tbody>\n",
       "</table>\n",
       "</div>"
      ],
      "text/plain": [
       "   coordinates\n",
       "0     (15, 27)\n",
       "1       (6, 9)\n",
       "2     (10, 17)\n",
       "3     (24, 17)\n",
       "4     (17, 20)\n",
       "5      (7, 25)\n",
       "6     (22, 19)\n",
       "7     (15, 23)\n",
       "8     (27, 17)\n",
       "9     (18, 19)\n",
       "10    (17, 25)\n",
       "11      (8, 5)\n",
       "12     (10, 8)\n",
       "13      (6, 7)\n",
       "14     (10, 7)\n",
       "15    (14, 18)\n",
       "16    (11, 12)\n",
       "17    (11, 22)\n",
       "18    (10, 18)\n",
       "19    (15, 11)"
      ]
     },
     "execution_count": 105,
     "metadata": {},
     "output_type": "execute_result"
    }
   ],
   "source": [
    "coordinate_df.head(20)"
   ]
  },
  {
   "cell_type": "markdown",
   "metadata": {},
   "source": [
    "### Coordinates (28, 18)"
   ]
  },
  {
   "cell_type": "code",
   "execution_count": 106,
   "metadata": {
    "collapsed": true
   },
   "outputs": [],
   "source": [
    "suite1 = neighborhoodPMF[(28,18)]\n",
    "lam1, k1 = suite1.Random()\n",
    "weibullcdf1 = MakeWeibullCdf(lam1,k1,10)"
   ]
  },
  {
   "cell_type": "code",
   "execution_count": 107,
   "metadata": {
    "collapsed": false
   },
   "outputs": [
    {
     "data": {
      "text/plain": [
       "{'xscale': 'linear', 'yscale': 'linear'}"
      ]
     },
     "execution_count": 107,
     "metadata": {},
     "output_type": "execute_result"
    },
    {
     "data": {
      "image/png": "[encoded data removed]",
      "text/plain": [
       "<matplotlib.figure.Figure at 0x127c8bb10>"
      ]
     },
     "metadata": {},
     "output_type": "display_data"
    }
   ],
   "source": [
    "thinkplot.Cdf(weibullcdf1)"
   ]
  },
  {
   "cell_type": "code",
   "execution_count": 108,
   "metadata": {
    "collapsed": false
   },
   "outputs": [
    {
     "data": {
      "image/png": "[encoded data removed]",
      "text/plain": [
       "<matplotlib.figure.Figure at 0x11419b790>"
      ]
     },
     "metadata": {},
     "output_type": "display_data"
    }
   ],
   "source": [
    "marginalLam1 = suite1.Marginal(0)\n",
    "thinkplot.Pmf(marginalLam1)"
   ]
  },
  {
   "cell_type": "code",
   "execution_count": 109,
   "metadata": {
    "collapsed": false
   },
   "outputs": [
    {
     "data": {
      "image/png": "[encoded data removed]",
      "text/plain": [
       "<matplotlib.figure.Figure at 0x1268dd110>"
      ]
     },
     "metadata": {},
     "output_type": "display_data"
    }
   ],
   "source": [
    "marginalK1 = suite1.Marginal(1)\n",
    "thinkplot.Pmf(marginalK1)"
   ]
  },
  {
   "cell_type": "markdown",
   "metadata": {},
   "source": [
    "### Coordinates (19, 24) "
   ]
  },
  {
   "cell_type": "code",
   "execution_count": 110,
   "metadata": {
    "collapsed": true
   },
   "outputs": [],
   "source": [
    "suite2 = neighborhoodPMF[(19,24)]\n",
    "lam2, k2 = suite2.Random()\n",
    "weibullcdf2 = MakeWeibullCdf(lam2,k2,10)"
   ]
  },
  {
   "cell_type": "code",
   "execution_count": 111,
   "metadata": {
    "collapsed": false
   },
   "outputs": [
    {
     "data": {
      "text/plain": [
       "{'xscale': 'linear', 'yscale': 'linear'}"
      ]
     },
     "execution_count": 111,
     "metadata": {},
     "output_type": "execute_result"
    },
    {
     "data": {
      "image/png": "[encoded data removed]",
      "text/plain": [
       "<matplotlib.figure.Figure at 0x1268d9050>"
      ]
     },
     "metadata": {},
     "output_type": "display_data"
    }
   ],
   "source": [
    "thinkplot.Cdf(weibullcdf2)"
   ]
  },
  {
   "cell_type": "code",
   "execution_count": 112,
   "metadata": {
    "collapsed": false
   },
   "outputs": [
    {
     "data": {
      "image/png": "[encoded data removed]",
      "text/plain": [
       "<matplotlib.figure.Figure at 0x127e10c10>"
      ]
     },
     "metadata": {},
     "output_type": "display_data"
    }
   ],
   "source": [
    "marginalLam2 = suite2.Marginal(0)\n",
    "thinkplot.Pmf(marginalLam2)"
   ]
  },
  {
   "cell_type": "code",
   "execution_count": 113,
   "metadata": {
    "collapsed": false
   },
   "outputs": [
    {
     "data": {
      "image/png": "[encoded data removed]",
      "text/plain": [
       "<matplotlib.figure.Figure at 0x1268d8090>"
      ]
     },
     "metadata": {},
     "output_type": "display_data"
    }
   ],
   "source": [
    "marginalK2 = suite2.Marginal(1)\n",
    "thinkplot.Pmf(marginalK2)"
   ]
  },
  {
   "cell_type": "markdown",
   "metadata": {},
   "source": [
    "### Coordinates (2, 4)"
   ]
  },
  {
   "cell_type": "code",
   "execution_count": 114,
   "metadata": {
    "collapsed": false
   },
   "outputs": [],
   "source": [
    "suite3 = neighborhoodPMF[(2,4)]\n",
    "lam3, k3 = suite3.Random()\n",
    "weibullcdf3 = MakeWeibullCdf(lam3,k3,10)"
   ]
  },
  {
   "cell_type": "code",
   "execution_count": 115,
   "metadata": {
    "collapsed": false
   },
   "outputs": [
    {
     "data": {
      "text/plain": [
       "0.08388463169771769"
      ]
     },
     "execution_count": 115,
     "metadata": {},
     "output_type": "execute_result"
    }
   ],
   "source": [
    "weibullcdf3[1]"
   ]
  },
  {
   "cell_type": "code",
   "execution_count": 116,
   "metadata": {
    "collapsed": false
   },
   "outputs": [
    {
     "data": {
      "text/plain": [
       "{'xscale': 'linear', 'yscale': 'linear'}"
      ]
     },
     "execution_count": 116,
     "metadata": {},
     "output_type": "execute_result"
    },
    {
     "data": {
      "image/png": "[encoded data removed]",
      "text/plain": [
       "<matplotlib.figure.Figure at 0x125383fd0>"
      ]
     },
     "metadata": {},
     "output_type": "display_data"
    }
   ],
   "source": [
    "thinkplot.Cdf(weibullcdf3)"
   ]
  },
  {
   "cell_type": "code",
   "execution_count": 117,
   "metadata": {
    "collapsed": false
   },
   "outputs": [
    {
     "data": {
      "image/png": "[encoded data removed]",
      "text/plain": [
       "<matplotlib.figure.Figure at 0x127c8be10>"
      ]
     },
     "metadata": {},
     "output_type": "display_data"
    }
   ],
   "source": [
    "marginalLam3 = suite3.Marginal(0)\n",
    "thinkplot.Pmf(marginalLam3)"
   ]
  },
  {
   "cell_type": "code",
   "execution_count": 118,
   "metadata": {
    "collapsed": false
   },
   "outputs": [
    {
     "data": {
      "image/png": "[encoded data removed]",
      "text/plain": [
       "<matplotlib.figure.Figure at 0x126804710>"
      ]
     },
     "metadata": {},
     "output_type": "display_data"
    }
   ],
   "source": [
    "marginalK3 = suite3.Marginal(1)\n",
    "thinkplot.Pmf(marginalK3)"
   ]
  },
  {
   "cell_type": "code",
   "execution_count": 119,
   "metadata": {
    "collapsed": true
   },
   "outputs": [],
   "source": [
    "# prob = EvalWeibullCdf(x, lam, k)"
   ]
  },
  {
   "cell_type": "markdown",
   "metadata": {
    "collapsed": true
   },
   "source": [
    "###  Further Steps \n",
    "It is possible to analytically calculate the time (t) in which the failure rate (or the rate at which the probaiblity that another house will be listed on Airbnb) is below 0.01 as a further step. \n",
    "To do this, we analytically derived, based on the Hazard function, functions that will calculate the time x such that"
   ]
  },
  {
   "cell_type": "code",
   "execution_count": 120,
   "metadata": {
    "collapsed": false
   },
   "outputs": [],
   "source": [
    "import math\n",
    "from scipy.optimize import minimize_scalar\n",
    "x_pos = np.linspace(0.0, 1000.0, num=1000)\n",
    "\n",
    "#We want to find the x that makes the hazard function gets as close to 0.01 as possible. \n",
    "\n",
    "def reverse_hazard_function(k, lam):\n",
    "    def r_h_f(x):\n",
    "        const = 0.01\n",
    "        numer = (k * x**(k-1))\n",
    "        denom = (lam**k)\n",
    "        exp = math.exp(-((x/lam)**k))\n",
    "        return (((numer/denom) + const)* exp) - const\n",
    "    return r_h_f\n",
    "\n",
    "def not_neg(x):\n",
    "    return not (x < 0)\n",
    "\n",
    "def find_min_x(k,lam):\n",
    "    function = reverse_hazard_function(k, lam)\n",
    "    res = map(function,x_pos)\n",
    "    res_d = {}\n",
    "    for r in range(len(res)):\n",
    "        res_d[res[r]] = r\n",
    "    res = filter(not_neg, res)\n",
    "    min_r =  min(res)\n",
    "    return res_d[min_r]\n"
   ]
  },
  {
   "cell_type": "markdown",
   "metadata": {},
   "source": [
    "### References\n",
    "https://www.google.com/webhp?sourceid=chrome-instant&ion=1&espv=2&ie=UTF-8#q=2014+New+York+SOI+Tax+csv"
   ]
  }
 ],
 "metadata": {
  "kernelspec": {
   "display_name": "Python 2",
   "language": "python",
   "name": "python2"
  },
  "language_info": {
   "codemirror_mode": {
    "name": "ipython",
    "version": 2
   },
   "file_extension": ".py",
   "mimetype": "text/x-python",
   "name": "python",
   "nbconvert_exporter": "python",
   "pygments_lexer": "ipython2",
   "version": "2.7.10"
  }
 },
 "nbformat": 4,
 "nbformat_minor": 0
}
